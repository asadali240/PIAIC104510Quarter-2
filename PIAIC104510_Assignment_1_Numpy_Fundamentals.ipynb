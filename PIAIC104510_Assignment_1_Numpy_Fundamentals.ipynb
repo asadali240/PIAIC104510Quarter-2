{
  "nbformat": 4,
  "nbformat_minor": 0,
  "metadata": {
    "colab": {
      "name": "PIAIC104510 Assignment 1 Numpy Fundamentals.ipynb",
      "provenance": [],
      "collapsed_sections": []
    },
    "kernelspec": {
      "display_name": "Python 3",
      "language": "python",
      "name": "python3"
    },
    "language_info": {
      "codemirror_mode": {
        "name": "ipython",
        "version": 3
      },
      "file_extension": ".py",
      "mimetype": "text/x-python",
      "name": "python",
      "nbconvert_exporter": "python",
      "pygments_lexer": "ipython3",
      "version": "3.7.6"
    }
  },
  "cells": [
    {
      "cell_type": "markdown",
      "metadata": {
        "id": "NgUeapcvmIRh"
      },
      "source": [
        "# **Assignment For Numpy**"
      ]
    },
    {
      "cell_type": "markdown",
      "metadata": {
        "id": "yhr3JicwnA-4"
      },
      "source": [
        "Difficulty Level **Beginner**"
      ]
    },
    {
      "cell_type": "markdown",
      "metadata": {
        "id": "hVPqDJ1SnKSh"
      },
      "source": [
        "1. Import the numpy package under the name np"
      ]
    },
    {
      "cell_type": "code",
      "metadata": {
        "id": "SePu31zKmgS-"
      },
      "source": [
        "import numpy as np"
      ],
      "execution_count": null,
      "outputs": []
    },
    {
      "cell_type": "markdown",
      "metadata": {
        "id": "d0gO81krnL7g"
      },
      "source": [
        "2. Create a null vector of size 10 "
      ]
    },
    {
      "cell_type": "code",
      "metadata": {
        "id": "2s6o2JPgnSBr",
        "colab": {
          "base_uri": "https://localhost:8080/"
        },
        "outputId": "360c9966-b0d8-41f4-c46e-f3330410d1d7"
      },
      "source": [
        "vector = np.zeros(10)\n",
        "print (vector)"
      ],
      "execution_count": null,
      "outputs": [
        {
          "output_type": "stream",
          "text": [
            "[0. 0. 0. 0. 0. 0. 0. 0. 0. 0.]\n"
          ],
          "name": "stdout"
        }
      ]
    },
    {
      "cell_type": "markdown",
      "metadata": {
        "id": "BJTMK03fnS1w"
      },
      "source": [
        "3. Create a vector with values ranging from 10 to 49"
      ]
    },
    {
      "cell_type": "code",
      "metadata": {
        "id": "qRXxXuWdnj1M",
        "colab": {
          "base_uri": "https://localhost:8080/"
        },
        "outputId": "cbefbb25-5da0-46e2-aec6-39b37f1d8d0a"
      },
      "source": [
        "vector2 = np.arange(10,49)\n",
        "result = np.vstack(vector2)\n",
        "result"
      ],
      "execution_count": null,
      "outputs": [
        {
          "output_type": "execute_result",
          "data": {
            "text/plain": [
              "array([[10],\n",
              "       [11],\n",
              "       [12],\n",
              "       [13],\n",
              "       [14],\n",
              "       [15],\n",
              "       [16],\n",
              "       [17],\n",
              "       [18],\n",
              "       [19],\n",
              "       [20],\n",
              "       [21],\n",
              "       [22],\n",
              "       [23],\n",
              "       [24],\n",
              "       [25],\n",
              "       [26],\n",
              "       [27],\n",
              "       [28],\n",
              "       [29],\n",
              "       [30],\n",
              "       [31],\n",
              "       [32],\n",
              "       [33],\n",
              "       [34],\n",
              "       [35],\n",
              "       [36],\n",
              "       [37],\n",
              "       [38],\n",
              "       [39],\n",
              "       [40],\n",
              "       [41],\n",
              "       [42],\n",
              "       [43],\n",
              "       [44],\n",
              "       [45],\n",
              "       [46],\n",
              "       [47],\n",
              "       [48]])"
            ]
          },
          "metadata": {
            "tags": []
          },
          "execution_count": 4
        }
      ]
    },
    {
      "cell_type": "markdown",
      "metadata": {
        "id": "n63lzg5Onkcn"
      },
      "source": [
        "4. Find the shape of previous array in question 3"
      ]
    },
    {
      "cell_type": "code",
      "metadata": {
        "id": "1FueBdqPn_q7",
        "colab": {
          "base_uri": "https://localhost:8080/"
        },
        "outputId": "b58ae491-92c7-4c99-cd27-5ce33e6acb98"
      },
      "source": [
        "vector2.shape"
      ],
      "execution_count": null,
      "outputs": [
        {
          "output_type": "execute_result",
          "data": {
            "text/plain": [
              "(39,)"
            ]
          },
          "metadata": {
            "tags": []
          },
          "execution_count": 5
        }
      ]
    },
    {
      "cell_type": "markdown",
      "metadata": {
        "id": "AzMlQj1MoAVe"
      },
      "source": [
        "5. Print the type of the previous array in question 3"
      ]
    },
    {
      "cell_type": "code",
      "metadata": {
        "id": "AO9PYmdWoE1L",
        "colab": {
          "base_uri": "https://localhost:8080/"
        },
        "outputId": "28a95c17-4c88-4fd2-cab4-37d60f02bf92"
      },
      "source": [
        "vector2.dtype"
      ],
      "execution_count": null,
      "outputs": [
        {
          "output_type": "execute_result",
          "data": {
            "text/plain": [
              "dtype('int64')"
            ]
          },
          "metadata": {
            "tags": []
          },
          "execution_count": 6
        }
      ]
    },
    {
      "cell_type": "markdown",
      "metadata": {
        "id": "0qaKS13Yon-U"
      },
      "source": [
        "6. Print the numpy version and the configuration\n"
      ]
    },
    {
      "cell_type": "code",
      "metadata": {
        "id": "T3wY24e1oorh",
        "outputId": "d3ce4211-54ed-4c14-f703-1d22a9d19f00"
      },
      "source": [
        "np.__version__\n",
        "np.show_config()"
      ],
      "execution_count": null,
      "outputs": [
        {
          "output_type": "stream",
          "text": [
            "blas_mkl_info:\n",
            "    libraries = ['mkl_rt']\n",
            "    library_dirs = ['C:/Users/DELL/anaconda3\\\\Library\\\\lib']\n",
            "    define_macros = [('SCIPY_MKL_H', None), ('HAVE_CBLAS', None)]\n",
            "    include_dirs = ['C:\\\\Program Files (x86)\\\\IntelSWTools\\\\compilers_and_libraries_2019.0.117\\\\windows\\\\mkl', 'C:\\\\Program Files (x86)\\\\IntelSWTools\\\\compilers_and_libraries_2019.0.117\\\\windows\\\\mkl\\\\include', 'C:\\\\Program Files (x86)\\\\IntelSWTools\\\\compilers_and_libraries_2019.0.117\\\\windows\\\\mkl\\\\lib', 'C:/Users/DELL/anaconda3\\\\Library\\\\include']\n",
            "blas_opt_info:\n",
            "    libraries = ['mkl_rt']\n",
            "    library_dirs = ['C:/Users/DELL/anaconda3\\\\Library\\\\lib']\n",
            "    define_macros = [('SCIPY_MKL_H', None), ('HAVE_CBLAS', None)]\n",
            "    include_dirs = ['C:\\\\Program Files (x86)\\\\IntelSWTools\\\\compilers_and_libraries_2019.0.117\\\\windows\\\\mkl', 'C:\\\\Program Files (x86)\\\\IntelSWTools\\\\compilers_and_libraries_2019.0.117\\\\windows\\\\mkl\\\\include', 'C:\\\\Program Files (x86)\\\\IntelSWTools\\\\compilers_and_libraries_2019.0.117\\\\windows\\\\mkl\\\\lib', 'C:/Users/DELL/anaconda3\\\\Library\\\\include']\n",
            "lapack_mkl_info:\n",
            "    libraries = ['mkl_rt']\n",
            "    library_dirs = ['C:/Users/DELL/anaconda3\\\\Library\\\\lib']\n",
            "    define_macros = [('SCIPY_MKL_H', None), ('HAVE_CBLAS', None)]\n",
            "    include_dirs = ['C:\\\\Program Files (x86)\\\\IntelSWTools\\\\compilers_and_libraries_2019.0.117\\\\windows\\\\mkl', 'C:\\\\Program Files (x86)\\\\IntelSWTools\\\\compilers_and_libraries_2019.0.117\\\\windows\\\\mkl\\\\include', 'C:\\\\Program Files (x86)\\\\IntelSWTools\\\\compilers_and_libraries_2019.0.117\\\\windows\\\\mkl\\\\lib', 'C:/Users/DELL/anaconda3\\\\Library\\\\include']\n",
            "lapack_opt_info:\n",
            "    libraries = ['mkl_rt']\n",
            "    library_dirs = ['C:/Users/DELL/anaconda3\\\\Library\\\\lib']\n",
            "    define_macros = [('SCIPY_MKL_H', None), ('HAVE_CBLAS', None)]\n",
            "    include_dirs = ['C:\\\\Program Files (x86)\\\\IntelSWTools\\\\compilers_and_libraries_2019.0.117\\\\windows\\\\mkl', 'C:\\\\Program Files (x86)\\\\IntelSWTools\\\\compilers_and_libraries_2019.0.117\\\\windows\\\\mkl\\\\include', 'C:\\\\Program Files (x86)\\\\IntelSWTools\\\\compilers_and_libraries_2019.0.117\\\\windows\\\\mkl\\\\lib', 'C:/Users/DELL/anaconda3\\\\Library\\\\include']\n"
          ],
          "name": "stdout"
        }
      ]
    },
    {
      "cell_type": "markdown",
      "metadata": {
        "id": "ZyUUiQf5oyvE"
      },
      "source": [
        "7. Print the dimension of the array in question 3\n"
      ]
    },
    {
      "cell_type": "code",
      "metadata": {
        "id": "pLXfuIqIo0vq",
        "outputId": "0671dc17-a7a2-4949-f1e6-a6dd208b3919"
      },
      "source": [
        "vector2.shape"
      ],
      "execution_count": null,
      "outputs": [
        {
          "output_type": "execute_result",
          "data": {
            "text/plain": [
              "(39,)"
            ]
          },
          "metadata": {
            "tags": []
          },
          "execution_count": 7
        }
      ]
    },
    {
      "cell_type": "markdown",
      "metadata": {
        "id": "JYVMuFrqpBdV"
      },
      "source": [
        "8. Create a boolean array with all the True values"
      ]
    },
    {
      "cell_type": "code",
      "metadata": {
        "id": "3apZsISzpFKR",
        "outputId": "6f3ba1cb-c4fa-462e-cd14-82c9c35bedf6"
      },
      "source": [
        "np.ones((2,3), dtype=bool)"
      ],
      "execution_count": null,
      "outputs": [
        {
          "output_type": "execute_result",
          "data": {
            "text/plain": [
              "array([[ True,  True,  True],\n",
              "       [ True,  True,  True]])"
            ]
          },
          "metadata": {
            "tags": []
          },
          "execution_count": 8
        }
      ]
    },
    {
      "cell_type": "markdown",
      "metadata": {
        "id": "4zbBooWZpPBU"
      },
      "source": [
        "9. Create a two dimensional array\n",
        "\n",
        "\n"
      ]
    },
    {
      "cell_type": "code",
      "metadata": {
        "id": "KfPQEiVIpdTo",
        "outputId": "7d1d5b82-5aac-451c-f17e-02c57e07ca94"
      },
      "source": [
        "two_dimentional = np.array([[2,3,4], [1,2,3]])\n",
        "print (two_dimentional)"
      ],
      "execution_count": null,
      "outputs": [
        {
          "output_type": "stream",
          "text": [
            "[[2 3 4]\n",
            " [1 2 3]]\n"
          ],
          "name": "stdout"
        }
      ]
    },
    {
      "cell_type": "markdown",
      "metadata": {
        "id": "do9wPAFbpqC7"
      },
      "source": [
        "10. Create a three dimensional array\n",
        "\n"
      ]
    },
    {
      "cell_type": "code",
      "metadata": {
        "id": "ZCO_q-KZqAeW",
        "colab": {
          "base_uri": "https://localhost:8080/"
        },
        "outputId": "30b3d488-15a4-49d7-b3b2-230395b62394"
      },
      "source": [
        "three_dimentional = np.array([[[1,2,3], [4,5,6], [7,8,9]]])\n",
        "print (three_dimentional)"
      ],
      "execution_count": null,
      "outputs": [
        {
          "output_type": "stream",
          "text": [
            "[[[1 2 3]\n",
            "  [4 5 6]\n",
            "  [7 8 9]]]\n"
          ],
          "name": "stdout"
        }
      ]
    },
    {
      "cell_type": "markdown",
      "metadata": {
        "id": "a4iysJ87qEeb"
      },
      "source": [
        "Difficulty Level **Easy**"
      ]
    },
    {
      "cell_type": "markdown",
      "metadata": {
        "id": "DehgqszSqjY6"
      },
      "source": [
        "11. Reverse a vector (first element becomes last)"
      ]
    },
    {
      "cell_type": "code",
      "metadata": {
        "id": "tfevmc4VqkWu",
        "outputId": "a1299005-b97a-4dea-9c28-85b2ee2c5ecf"
      },
      "source": [
        "reverse = vector2[::-1]\n",
        "print (reverse)"
      ],
      "execution_count": null,
      "outputs": [
        {
          "output_type": "stream",
          "text": [
            "[48 47 46 45 44 43 42 41 40 39 38 37 36 35 34 33 32 31 30 29 28 27 26 25\n",
            " 24 23 22 21 20 19 18 17 16 15 14 13 12 11 10]\n"
          ],
          "name": "stdout"
        }
      ]
    },
    {
      "cell_type": "markdown",
      "metadata": {
        "id": "yoATXS-qqk_q"
      },
      "source": [
        "12. Create a null vector of size 10 but the fifth value which is 1 "
      ]
    },
    {
      "cell_type": "code",
      "metadata": {
        "id": "AheZ32Owqpte",
        "outputId": "3b6e8581-794d-4840-9605-4734fbcb4998"
      },
      "source": [
        "null_vector = np.zeros(10)\n",
        "print (null_vector)\n",
        "print (\"update 5th value to 1\")\n",
        "null_vector[4] = 1\n",
        "print (null_vector)\n"
      ],
      "execution_count": null,
      "outputs": [
        {
          "output_type": "stream",
          "text": [
            "[0. 0. 0. 0. 0. 0. 0. 0. 0. 0.]\n",
            "update 5th value to 1\n",
            "[0. 0. 0. 0. 1. 0. 0. 0. 0. 0.]\n"
          ],
          "name": "stdout"
        }
      ]
    },
    {
      "cell_type": "markdown",
      "metadata": {
        "id": "RZRzOBbFsY0w"
      },
      "source": [
        "13. Create a 3x3 identity matrix"
      ]
    },
    {
      "cell_type": "code",
      "metadata": {
        "id": "va2ou0BHsvEj",
        "outputId": "431de0e5-c110-4b28-8f5a-2c6723dd8162"
      },
      "source": [
        "three_matrix = np.arange(2,11).reshape(3,3)\n",
        "print (three_matrix)"
      ],
      "execution_count": null,
      "outputs": [
        {
          "output_type": "stream",
          "text": [
            "[[ 2  3  4]\n",
            " [ 5  6  7]\n",
            " [ 8  9 10]]\n"
          ],
          "name": "stdout"
        }
      ]
    },
    {
      "cell_type": "markdown",
      "metadata": {
        "id": "lnN5drkUs6o2"
      },
      "source": [
        "14. arr = np.array([1, 2, 3, 4, 5]) \n",
        "\n",
        "---\n",
        "\n",
        " Convert the data type of the given array from int to float "
      ]
    },
    {
      "cell_type": "code",
      "metadata": {
        "id": "59EIQt6otKUB",
        "outputId": "ff317b31-c855-4e14-c15e-8456f775b8b4"
      },
      "source": [
        "arr = np.array([1.1,2.2,3.3,4.4])\n",
        "float_datatype_convert = arr.astype (np.float)\n",
        "print (float_datatype_convert)\n",
        "float_datatype_convert.dtype"
      ],
      "execution_count": null,
      "outputs": [
        {
          "output_type": "stream",
          "text": [
            "[1.1 2.2 3.3 4.4]\n"
          ],
          "name": "stdout"
        },
        {
          "output_type": "execute_result",
          "data": {
            "text/plain": [
              "dtype('float64')"
            ]
          },
          "metadata": {
            "tags": []
          },
          "execution_count": 14
        }
      ]
    },
    {
      "cell_type": "markdown",
      "metadata": {
        "id": "fSL2AKJetTes"
      },
      "source": [
        "15. arr1 =          np.array([[1., 2., 3.],\n",
        "\n",
        "                    [4., 5., 6.]])  \n",
        "                      \n",
        "    arr2 = np.array([[0., 4., 1.],\n",
        "     \n",
        "                   [7., 2., 12.]])\n",
        "\n",
        "\n"
      ]
    },
    {
      "cell_type": "code",
      "metadata": {
        "id": "7VDXgRQDuJNV",
        "outputId": "45b8687a-5779-4747-b4a9-4ed2218407ff"
      },
      "source": [
        "arr1 = np.array([[1,2,3],[4,5,6]])\n",
        "arr2 = np.array([[0,4,1],[7,2,12]])\n",
        "\n",
        "print (arr1 * arr2)"
      ],
      "execution_count": null,
      "outputs": [
        {
          "output_type": "stream",
          "text": [
            "[[ 0  8  3]\n",
            " [28 10 72]]\n"
          ],
          "name": "stdout"
        }
      ]
    },
    {
      "cell_type": "markdown",
      "metadata": {
        "id": "a8yJ438-uKni"
      },
      "source": [
        "16. arr1 = np.array([[1., 2., 3.],\n",
        "                    [4., 5., 6.]]) \n",
        "                    \n",
        "    arr2 = np.array([[0., 4., 1.], \n",
        "                    [7., 2., 12.]])\n",
        "\n",
        "\n",
        "---\n",
        "\n",
        "Make an array by comparing both the arrays provided above"
      ]
    },
    {
      "cell_type": "code",
      "metadata": {
        "id": "3MPDaAlYueF3",
        "outputId": "cdf6db57-c5ad-4043-a047-27ef920f434f"
      },
      "source": [
        "arr1 = np.array([[1,2,3],[4,5,6]]) \n",
        "arr2 = np.array([[0,4,1],[7,2,12]])\n",
        "\n",
        "comparing = arr1 = arr2\n",
        "print (comparing)"
      ],
      "execution_count": null,
      "outputs": [
        {
          "output_type": "stream",
          "text": [
            "[[ 0  4  1]\n",
            " [ 7  2 12]]\n"
          ],
          "name": "stdout"
        }
      ]
    },
    {
      "cell_type": "markdown",
      "metadata": {
        "id": "3xiD0eJluewk"
      },
      "source": [
        "17. Extract all odd numbers from arr with values(0-9)"
      ]
    },
    {
      "cell_type": "code",
      "metadata": {
        "id": "J_qbt_EuvM7l",
        "outputId": "724b718b-a69e-4991-cd99-3d3b1d8bdb65"
      },
      "source": [
        "odd_numbers = np.array(range (0,9))\n",
        "\n",
        "print(\"odd number \", odd_numbers[odd_numbers%2==1])\n"
      ],
      "execution_count": null,
      "outputs": [
        {
          "output_type": "stream",
          "text": [
            "odd number  [1 3 5 7]\n"
          ],
          "name": "stdout"
        }
      ]
    },
    {
      "cell_type": "markdown",
      "metadata": {
        "id": "zpg5cyLsvPoZ"
      },
      "source": [
        "18. Replace all odd numbers to -1 from previous array"
      ]
    },
    {
      "cell_type": "code",
      "metadata": {
        "id": "rXUV1-ULvQdd",
        "outputId": "31d480b4-4d7f-468c-eb4c-e46c3c84dee1"
      },
      "source": [
        "odd_numbers = np.array(range (0,9))\n",
        "\n",
        "replace_oddnumbers = odd_numbers[odd_numbers%2==1]\n",
        "\n",
        "odd_numbers[replace_oddnumbers] = -1\n",
        "\n",
        "print (\"the values with minus numbers \",odd_numbers)"
      ],
      "execution_count": null,
      "outputs": [
        {
          "output_type": "stream",
          "text": [
            "the values with minus numbers  [ 0 -1  2 -1  4 -1  6 -1  8]\n"
          ],
          "name": "stdout"
        }
      ]
    },
    {
      "cell_type": "markdown",
      "metadata": {
        "id": "FWpHTWTDvjvi"
      },
      "source": [
        "19. arr = np.arange(10)\n",
        "\n",
        "\n",
        "---\n",
        "\n",
        "Replace the values of indexes 5,6,7 and 8 to **12**"
      ]
    },
    {
      "cell_type": "code",
      "metadata": {
        "id": "ensZ3lqwvlSb",
        "colab": {
          "base_uri": "https://localhost:8080/"
        },
        "outputId": "e9d58e62-7d27-47af-c09c-c7b8c22c1273"
      },
      "source": [
        "arr = np.arange(10)\n",
        "\n",
        "arr[5:9] = 12\n",
        "print (arr)"
      ],
      "execution_count": null,
      "outputs": [
        {
          "output_type": "stream",
          "text": [
            "[ 0  1  2  3  4 12 12 12 12  9]\n"
          ],
          "name": "stdout"
        }
      ]
    },
    {
      "cell_type": "markdown",
      "metadata": {
        "id": "ib-vBffAv0zy"
      },
      "source": [
        "20. Create a 2d array with 1 on the border and 0 inside"
      ]
    },
    {
      "cell_type": "code",
      "metadata": {
        "id": "RmzcjNYrwDrM",
        "outputId": "821fec49-449c-4a4e-d11a-151b74718ca0"
      },
      "source": [
        "twod_array = np.ones((5,5))\n",
        "print (twod_array)\n",
        "\n",
        "print (\"update border with 1 and 0 inside \")\n",
        "\n",
        "twod_array[1:-1, 1:-1] = 0\n",
        "\n",
        "print (twod_array)"
      ],
      "execution_count": null,
      "outputs": [
        {
          "output_type": "stream",
          "text": [
            "[[1. 1. 1. 1. 1.]\n",
            " [1. 1. 1. 1. 1.]\n",
            " [1. 1. 1. 1. 1.]\n",
            " [1. 1. 1. 1. 1.]\n",
            " [1. 1. 1. 1. 1.]]\n",
            "update border with 1 and 0 inside \n",
            "[[1. 1. 1. 1. 1.]\n",
            " [1. 0. 0. 0. 1.]\n",
            " [1. 0. 0. 0. 1.]\n",
            " [1. 0. 0. 0. 1.]\n",
            " [1. 1. 1. 1. 1.]]\n"
          ],
          "name": "stdout"
        }
      ]
    },
    {
      "cell_type": "markdown",
      "metadata": {
        "id": "E1diIFSEwEmh"
      },
      "source": [
        "Difficulty Level **Medium**"
      ]
    },
    {
      "cell_type": "markdown",
      "metadata": {
        "id": "eGLZmNb_wKb4"
      },
      "source": [
        "21. arr2d = np.array([[1, 2, 3],\n",
        "\n",
        "                    [4, 5, 6], \n",
        "\n",
        "                    [7, 8, 9]])\n",
        "\n",
        "---\n",
        "\n",
        "Replace the value 5 to 12"
      ]
    },
    {
      "cell_type": "code",
      "metadata": {
        "id": "VdUnsUOZwJFz",
        "outputId": "e4149013-811b-4a90-e6d3-f87534eaa15c"
      },
      "source": [
        "arr2d = np.array([[1, 2, 3],[4, 5, 6],[7, 8, 9]])\n",
        "\n",
        "print (arr2d)\n",
        "\n",
        "print (\"replacing the value 5 to 12\")\n",
        "arr2d[1:2,1:2] = 12\n",
        "\n",
        "print (arr2d)\n"
      ],
      "execution_count": null,
      "outputs": [
        {
          "output_type": "stream",
          "text": [
            "[[1 2 3]\n",
            " [4 5 6]\n",
            " [7 8 9]]\n",
            "replacing the value 5 to 12\n",
            "[[ 1  2  3]\n",
            " [ 4 12  6]\n",
            " [ 7  8  9]]\n"
          ],
          "name": "stdout"
        }
      ]
    },
    {
      "cell_type": "markdown",
      "metadata": {
        "id": "TEbFhlPZxaKO"
      },
      "source": [
        "22. arr3d = np.array([[[1, 2, 3], [4, 5, 6]], [[7, 8, 9], [10, 11, 12]]])\n",
        "\n",
        "---\n",
        "Convert all the values of 1st array to 64\n"
      ]
    },
    {
      "cell_type": "code",
      "metadata": {
        "id": "eYzephU8xmsg",
        "outputId": "d942436c-15d4-441c-99fc-9bcb986a639d"
      },
      "source": [
        "arr3d = np.array([[[1, 2, 3], [4, 5, 6]], [[7, 8, 9], [10, 11, 12]]])\n",
        "print (arr3d)\n",
        "\n",
        "print ( end = \"\\n \")\n",
        "print (\"after converting the values \")\n",
        "print ( end = \"\\n \")\n",
        "\n",
        "arr3d[:1, :1] = 64\n",
        "\n",
        "print (arr3d)"
      ],
      "execution_count": null,
      "outputs": [
        {
          "output_type": "stream",
          "text": [
            "[[[ 1  2  3]\n",
            "  [ 4  5  6]]\n",
            "\n",
            " [[ 7  8  9]\n",
            "  [10 11 12]]]\n",
            "\n",
            " after converting the values \n",
            "\n",
            " [[[64 64 64]\n",
            "  [ 4  5  6]]\n",
            "\n",
            " [[ 7  8  9]\n",
            "  [10 11 12]]]\n"
          ],
          "name": "stdout"
        }
      ]
    },
    {
      "cell_type": "markdown",
      "metadata": {
        "id": "vZj0Ndvnx6f0"
      },
      "source": [
        "23. Make a 2-Dimensional array with values 0-9 and slice out the first 1st 1-D array from it"
      ]
    },
    {
      "cell_type": "code",
      "metadata": {
        "id": "pM4e9YfdyHSv",
        "colab": {
          "base_uri": "https://localhost:8080/"
        },
        "outputId": "b9685353-d7ca-4382-e8fc-87a30a8f4d41"
      },
      "source": [
        "slice_twodimentional = np.arange(0,9).reshape(3,3)\n",
        "\n",
        "print (slice_twodimentional)\n",
        "slice_twodimentional[0,0:2+1]"
      ],
      "execution_count": null,
      "outputs": [
        {
          "output_type": "stream",
          "text": [
            "[[0 1 2]\n",
            " [3 4 5]\n",
            " [6 7 8]]\n"
          ],
          "name": "stdout"
        },
        {
          "output_type": "execute_result",
          "data": {
            "text/plain": [
              "array([0, 1, 2])"
            ]
          },
          "metadata": {
            "tags": []
          },
          "execution_count": 10
        }
      ]
    },
    {
      "cell_type": "markdown",
      "metadata": {
        "id": "C3dkW0lZyVps"
      },
      "source": [
        "24. Make a 2-Dimensional array with values 0-9 and slice out the 2nd value from 2nd 1-D array from it"
      ]
    },
    {
      "cell_type": "code",
      "metadata": {
        "id": "IrrzK2xgygqV",
        "outputId": "ba341015-79d1-4bbf-88b2-8e69cca80927"
      },
      "source": [
        "slice_twodimentional = np.arange(0,9).reshape(3,3)\n",
        "\n",
        "slice_twodimentional[1,0:2+1]"
      ],
      "execution_count": null,
      "outputs": [
        {
          "output_type": "execute_result",
          "data": {
            "text/plain": [
              "array([3, 4, 5])"
            ]
          },
          "metadata": {
            "tags": []
          },
          "execution_count": 24
        }
      ]
    },
    {
      "cell_type": "markdown",
      "metadata": {
        "id": "G3dLwOO9yyrE"
      },
      "source": [
        "25. Make a 2-Dimensional array with values 0-9 and slice out the third column but only the first two rows"
      ]
    },
    {
      "cell_type": "code",
      "metadata": {
        "id": "5Bx4fqsLyqGD",
        "outputId": "732e4a21-649c-457a-94ab-bb9ce46e4b6a"
      },
      "source": [
        "slice_twodimentional = np.arange(0,9).reshape(3,3)\n",
        "\n",
        "print (slice_twodimentional)\n",
        "print (\"after slicing \")\n",
        "\n",
        "slice_twodimentional[0:2,1:2+1]"
      ],
      "execution_count": null,
      "outputs": [
        {
          "output_type": "stream",
          "text": [
            "[[0 1 2]\n",
            " [3 4 5]\n",
            " [6 7 8]]\n",
            "after slicing \n"
          ],
          "name": "stdout"
        },
        {
          "output_type": "execute_result",
          "data": {
            "text/plain": [
              "array([[1, 2],\n",
              "       [4, 5]])"
            ]
          },
          "metadata": {
            "tags": []
          },
          "execution_count": 31
        }
      ]
    },
    {
      "cell_type": "markdown",
      "metadata": {
        "id": "CQ9YST5jy0IL"
      },
      "source": [
        "26. Create a 10x10 array with random values and find the minimum and maximum values"
      ]
    },
    {
      "cell_type": "code",
      "metadata": {
        "id": "lhJPugjQzG6W",
        "colab": {
          "base_uri": "https://localhost:8080/"
        },
        "outputId": "5c15cd14-8dc3-4044-9c34-43c60ab45784"
      },
      "source": [
        "find_value = np.random.random((10,10))\n",
        "\n",
        "\n",
        "\n",
        "min_value = find_value.min()\n",
        "max_value = find_value.max()\n",
        "print (\"\\n\")\n",
        "print (\"the minimun value is :\", min_value)\n",
        "print (\"the maximum value is :\", max_value)\n"
      ],
      "execution_count": null,
      "outputs": [
        {
          "output_type": "stream",
          "text": [
            "\n",
            "\n",
            "the minimun value is : 0.040578175579624065\n",
            "the maximum value is : 0.9959951447957467\n"
          ],
          "name": "stdout"
        }
      ]
    },
    {
      "cell_type": "markdown",
      "metadata": {
        "id": "cAgDt6KazHk6"
      },
      "source": [
        "27. a = np.array([1,2,3,2,3,4,3,4,5,6]) b = np.array([7,2,10,2,7,4,9,4,9,8])\n",
        "---\n",
        "Find the common items between a and b\n"
      ]
    },
    {
      "cell_type": "code",
      "metadata": {
        "id": "kBXZanxIzs_F",
        "outputId": "057eb6ea-aa4a-4a75-a7e0-083f403fa0e6"
      },
      "source": [
        "a = np.array([1,2,3,2,3,4,3,4,5,6]) \n",
        "b = np.array([7,2,10,2,7,4,9,4,9,8])\n",
        "\n",
        "common_values = np.intersect1d(a,b)\n",
        "print (\"finding the common values are \", common_values)\n",
        "\n"
      ],
      "execution_count": null,
      "outputs": [
        {
          "output_type": "stream",
          "text": [
            "finding the common values are  [2 4]\n"
          ],
          "name": "stdout"
        }
      ]
    },
    {
      "cell_type": "markdown",
      "metadata": {
        "id": "lF9IzWOAztpD"
      },
      "source": [
        "28. a = np.array([1,2,3,2,3,4,3,4,5,6])\n",
        "b = np.array([7,2,10,2,7,4,9,4,9,8])\n",
        "\n",
        "---\n",
        "Find the positions where elements of a and b match\n",
        "\n"
      ]
    },
    {
      "cell_type": "code",
      "metadata": {
        "id": "JR-mHQLH0HY_",
        "colab": {
          "base_uri": "https://localhost:8080/"
        },
        "outputId": "cd0875c5-2375-41fd-f0ec-b80a8afec66c"
      },
      "source": [
        "value1 = np.array([1,2,3, 2,3,4,3,4,5,6]) \n",
        "value2 = np.array([7,2,10,2,7,4,9,4,9,8])\n",
        "\n",
        "\n",
        "\n",
        "common_values2 = np.where(value1 == value2)\n",
        "\n",
        "\n",
        "common_values2\n",
        "\n",
        "\n"
      ],
      "execution_count": null,
      "outputs": [
        {
          "output_type": "execute_result",
          "data": {
            "text/plain": [
              "(array([1, 3, 5, 7]),)"
            ]
          },
          "metadata": {
            "tags": []
          },
          "execution_count": 6
        }
      ]
    },
    {
      "cell_type": "markdown",
      "metadata": {
        "id": "mMDiefpH0H1x"
      },
      "source": [
        "29.  names = np.array(['Bob', 'Joe', 'Will', 'Bob', 'Will', 'Joe', 'Joe'])  data = np.random.randn(7, 4)\n",
        "\n",
        "---\n",
        "Find all the values from array **data** where the values from array **names** are not equal to **Will**\n"
      ]
    },
    {
      "cell_type": "code",
      "metadata": {
        "id": "gfc1Lpf81ZSR",
        "colab": {
          "base_uri": "https://localhost:8080/"
        },
        "outputId": "17173c22-c432-44b4-9115-ff8680b529ec"
      },
      "source": [
        "names = np.array(['Bob', 'Joe', 'Will', 'Bob', 'Will', 'Joe', 'Joe']) \n",
        "data = np.random.randn(7, 4)\n",
        "\n",
        "i = names != \"Will\"\n",
        "data [i]\n"
      ],
      "execution_count": null,
      "outputs": [
        {
          "output_type": "execute_result",
          "data": {
            "text/plain": [
              "array([[ 0.73566257, -2.16362322,  1.18285285,  0.51238661],\n",
              "       [ 2.07797842, -1.4736535 ,  0.68617225, -0.47222413],\n",
              "       [-1.0537429 ,  0.27542404, -0.27393494, -0.24454996],\n",
              "       [-1.03329895, -0.51940359,  0.46823238, -1.70428056],\n",
              "       [-0.6116205 ,  0.29385205, -0.01637398, -0.09114428]])"
            ]
          },
          "metadata": {
            "tags": []
          },
          "execution_count": 19
        }
      ]
    },
    {
      "cell_type": "markdown",
      "metadata": {
        "id": "52zEjDMf1aXS"
      },
      "source": [
        "30. names = np.array(['Bob', 'Joe', 'Will', 'Bob', 'Will', 'Joe', 'Joe']) data = np.random.randn(7, 4)\n",
        "\n",
        "---\n",
        "Find all the values from array **data** where the values from array **names** are not equal to **Will** and **Joe**\n",
        "\n"
      ]
    },
    {
      "cell_type": "code",
      "metadata": {
        "id": "8RYG0kLO1mHw",
        "colab": {
          "base_uri": "https://localhost:8080/"
        },
        "outputId": "5a327fde-6353-4ec5-85b3-b8a747738ef4"
      },
      "source": [
        "names = np.array(['Bob', 'Joe', 'Will', 'Bob', 'Will', 'Joe', 'Joe']) \n",
        "data = np.random.randn(7, 4)\n",
        "\n",
        "data [(names != \"Joe\") & (names != \"Will\") ]"
      ],
      "execution_count": null,
      "outputs": [
        {
          "output_type": "execute_result",
          "data": {
            "text/plain": [
              "array([[-0.01504943, -0.17142417, -0.71160224, -1.76957321],\n",
              "       [ 0.65669555,  2.17809952,  1.16484769,  0.43695565]])"
            ]
          },
          "metadata": {
            "tags": []
          },
          "execution_count": 13
        }
      ]
    },
    {
      "cell_type": "markdown",
      "metadata": {
        "id": "Q7hjf2bd2dCY"
      },
      "source": [
        "Difficulty Level **Hard**"
      ]
    },
    {
      "cell_type": "markdown",
      "metadata": {
        "id": "b48g7aRA2jVM"
      },
      "source": [
        "31. Create a 2D array of shape 5x3 to contain decimal numbers between 1 and 15."
      ]
    },
    {
      "cell_type": "code",
      "metadata": {
        "id": "EbwfSCrW2f9_",
        "colab": {
          "base_uri": "https://localhost:8080/"
        },
        "outputId": "5bb03dec-2bc4-444b-a5c6-89691d5806b8"
      },
      "source": [
        "import numpy as np\n",
        "\n",
        "arr = np.arange(15, dtype = np.float64).reshape (5,3)\n",
        "arr\n"
      ],
      "execution_count": null,
      "outputs": [
        {
          "output_type": "execute_result",
          "data": {
            "text/plain": [
              "array([[ 0.,  1.,  2.],\n",
              "       [ 3.,  4.,  5.],\n",
              "       [ 6.,  7.,  8.],\n",
              "       [ 9., 10., 11.],\n",
              "       [12., 13., 14.]])"
            ]
          },
          "metadata": {
            "tags": []
          },
          "execution_count": 21
        }
      ]
    },
    {
      "cell_type": "markdown",
      "metadata": {
        "id": "Ei_nDHtO3qBk"
      },
      "source": [
        "32. Create an array of shape (2, 2, 4) with decimal numbers between 1 to 16."
      ]
    },
    {
      "cell_type": "code",
      "metadata": {
        "id": "phOxVpBM4M6D",
        "colab": {
          "base_uri": "https://localhost:8080/"
        },
        "outputId": "02992266-94be-47fb-9cca-5a18d721a751"
      },
      "source": [
        "x = np.arange(1,16+1, dtype=np.float64).reshape(2,2,4)\n",
        "\n",
        "print (x)"
      ],
      "execution_count": null,
      "outputs": [
        {
          "output_type": "stream",
          "text": [
            "[[[ 1.  2.  3.  4.]\n",
            "  [ 5.  6.  7.  8.]]\n",
            "\n",
            " [[ 9. 10. 11. 12.]\n",
            "  [13. 14. 15. 16.]]]\n"
          ],
          "name": "stdout"
        }
      ]
    },
    {
      "cell_type": "markdown",
      "metadata": {
        "id": "uyiQaMjA4d_x"
      },
      "source": [
        "33. Swap axes of the array you created in Question 32"
      ]
    },
    {
      "cell_type": "code",
      "metadata": {
        "id": "w2m9p8064VtR",
        "outputId": "1c19a164-77f8-4ed5-c732-d11730754292"
      },
      "source": [
        "x = np.arange(1,16+1).reshape(2,2,4)\n",
        "\n",
        "print (\"print the original array \")\n",
        "print (x)\n",
        "\n",
        "x[:,[0, 1]] = x[:,[1, 0]]\n",
        "print(\"\\nAfter swapping arrays:\")\n",
        "print(x)\n"
      ],
      "execution_count": null,
      "outputs": [
        {
          "output_type": "stream",
          "text": [
            "print the original array \n",
            "[[[ 1  2  3  4]\n",
            "  [ 5  6  7  8]]\n",
            "\n",
            " [[ 9 10 11 12]\n",
            "  [13 14 15 16]]]\n",
            "\n",
            "After swapping arrays:\n",
            "[[[ 5  6  7  8]\n",
            "  [ 1  2  3  4]]\n",
            "\n",
            " [[13 14 15 16]\n",
            "  [ 9 10 11 12]]]\n"
          ],
          "name": "stdout"
        }
      ]
    },
    {
      "cell_type": "markdown",
      "metadata": {
        "id": "2dlU_yUR4mVZ"
      },
      "source": [
        "34. Create an array of size 10, and find the square root of every element in the array, if the values less than 0.5, replace them with 0"
      ]
    },
    {
      "cell_type": "code",
      "metadata": {
        "id": "tmBabEJ-5JgB",
        "outputId": "de451e1c-eccf-4668-82b0-c8ed2b4db8d6"
      },
      "source": [
        "x = np.arange(10)\n",
        "y = np.sqrt(x)\n",
        "print (\"\\n the values after square root :\")\n",
        "print (y)\n",
        "print (\"\\n after replacing the values less than 0.5 \")\n",
        "print (\"\\n\")\n",
        "y[y<0.5 ] = 0\n",
        "\n",
        "print (y)"
      ],
      "execution_count": null,
      "outputs": [
        {
          "output_type": "stream",
          "text": [
            "\n",
            " the values after square root :\n",
            "[0.         1.         1.41421356 1.73205081 2.         2.23606798\n",
            " 2.44948974 2.64575131 2.82842712 3.        ]\n",
            "\n",
            " after replacing the values less than 0.5 \n",
            "\n",
            "\n",
            "[0.         1.         1.41421356 1.73205081 2.         2.23606798\n",
            " 2.44948974 2.64575131 2.82842712 3.        ]\n"
          ],
          "name": "stdout"
        }
      ]
    },
    {
      "cell_type": "markdown",
      "metadata": {
        "id": "SNAM4dpu5RKA"
      },
      "source": [
        "35. Create two random arrays of range 12 and make an array with the maximum values between each element of the two arrays"
      ]
    },
    {
      "cell_type": "code",
      "metadata": {
        "id": "3pxebU2b5q9Z",
        "colab": {
          "base_uri": "https://localhost:8080/"
        },
        "outputId": "c1b73159-4200-4588-bf81-5449af461096"
      },
      "source": [
        "x = np.random.random(12)\n",
        "y = np.random.random(12)\n",
        "z = np.maximum(x,y)\n",
        "\n",
        "z"
      ],
      "execution_count": null,
      "outputs": [
        {
          "output_type": "execute_result",
          "data": {
            "text/plain": [
              "array([0.9180822 , 0.85686302, 0.53546214, 0.76116293, 0.61263504,\n",
              "       0.30393066, 0.87874968, 0.43728183, 0.66117524, 0.62319631,\n",
              "       0.83081038, 0.58128872])"
            ]
          },
          "metadata": {
            "tags": []
          },
          "execution_count": 10
        }
      ]
    },
    {
      "cell_type": "markdown",
      "metadata": {
        "id": "fz_bpqm28qmD"
      },
      "source": [
        "36. names = np.array(['Bob', 'Joe', 'Will', 'Bob', 'Will', 'Joe', 'Joe'])\n",
        "\n",
        "---\n",
        "Find the unique names and sort them out!\n"
      ]
    },
    {
      "cell_type": "code",
      "metadata": {
        "colab": {
          "base_uri": "https://localhost:8080/"
        },
        "id": "hiSNMgcY87Ey",
        "outputId": "5ee01fa9-a8c8-4afb-ab5c-0fd6aa94bbbd"
      },
      "source": [
        "names = np.array(['Bob', 'Joe', 'Will', 'Bob', 'Will', 'Joe', 'Joe'])\n",
        "\n",
        "z = np.unique(names)\n",
        "print (np.sort(z))\n",
        "\n"
      ],
      "execution_count": null,
      "outputs": [
        {
          "output_type": "stream",
          "text": [
            "['Bob' 'Joe' 'Will']\n"
          ],
          "name": "stdout"
        }
      ]
    },
    {
      "cell_type": "markdown",
      "metadata": {
        "id": "dguMNzob870H"
      },
      "source": [
        "37. a = np.array([1,2,3,4,5])\n",
        "b = np.array([5,6,7,8,9])\n",
        "\n",
        "---\n",
        "From array a remove all items present in array b\n",
        "\n"
      ]
    },
    {
      "cell_type": "code",
      "metadata": {
        "colab": {
          "base_uri": "https://localhost:8080/"
        },
        "id": "eCNJXPvK9IAr",
        "outputId": "6813ad15-c5c6-489c-f099-214572fbfc67"
      },
      "source": [
        "a = np.array([1,2,3,4,5]) \r\n",
        "b = np.array([5,6,7,8,9])\r\n",
        "\r\n",
        "c = np.setdiff1d (a,b)\r\n",
        "c\r\n"
      ],
      "execution_count": null,
      "outputs": [
        {
          "output_type": "execute_result",
          "data": {
            "text/plain": [
              "array([1, 2, 3, 4])"
            ]
          },
          "metadata": {
            "tags": []
          },
          "execution_count": 4
        }
      ]
    },
    {
      "cell_type": "markdown",
      "metadata": {
        "id": "gz4Dvd4b_Akh"
      },
      "source": [
        "38.  Following is the input NumPy array delete column two and insert following new column in its place.\n",
        "\n",
        "---\n",
        "sampleArray = numpy.array([[34,43,73],[82,22,12],[53,94,66]]) \n",
        "\n",
        "\n",
        "---\n",
        "\n",
        "newColumn = numpy.array([[10,10,10]])\n"
      ]
    },
    {
      "cell_type": "code",
      "metadata": {
        "id": "lLWAJWJJ_I3d",
        "colab": {
          "base_uri": "https://localhost:8080/"
        },
        "outputId": "f6bb45ec-667d-4ae6-bc61-63546ae3c62d"
      },
      "source": [
        "import numpy \r\n",
        "sampleArray = numpy.array([[34,43,73],[82,22,12],[53,94,66]]) \r\n",
        "newColumn = numpy.array([[10,10,10]])\r\n",
        "\r\n",
        "print (sampleArray)\r\n",
        "sampleArray[:,2] = newColumn\r\n",
        "print (\"\\n after inserting the new values at column two  \")\r\n",
        "print (sampleArray)"
      ],
      "execution_count": null,
      "outputs": [
        {
          "output_type": "stream",
          "text": [
            "[[34 43 73]\n",
            " [82 22 12]\n",
            " [53 94 66]]\n",
            "\n",
            " after inserting the new values at column two  \n",
            "[[34 43 10]\n",
            " [82 22 10]\n",
            " [53 94 10]]\n"
          ],
          "name": "stdout"
        }
      ]
    },
    {
      "cell_type": "markdown",
      "metadata": {
        "id": "1lIfmbQt_J_W"
      },
      "source": [
        "39. x = np.array([[1., 2., 3.], [4., 5., 6.]]) y = np.array([[6., 23.], [-1, 7], [8, 9]])\n",
        "\n",
        "\n",
        "---\n",
        "Find the dot product of the above two matrix\n"
      ]
    },
    {
      "cell_type": "code",
      "metadata": {
        "id": "fV2-vXcR_vmu",
        "colab": {
          "base_uri": "https://localhost:8080/"
        },
        "outputId": "8ab544d5-a238-44da-870a-a2952509bea1"
      },
      "source": [
        "x = np.array([[1., 2., 3.], [4., 5., 6.]]) \r\n",
        "y = np.array([[6., 23.], [-1, 7], [8, 9]])\r\n",
        "\r\n",
        "z = np.dot(x,y)\r\n",
        "z"
      ],
      "execution_count": null,
      "outputs": [
        {
          "output_type": "execute_result",
          "data": {
            "text/plain": [
              "array([[ 28.,  64.],\n",
              "       [ 67., 181.]])"
            ]
          },
          "metadata": {
            "tags": []
          },
          "execution_count": 2
        }
      ]
    },
    {
      "cell_type": "markdown",
      "metadata": {
        "id": "5U-4odUw_wP0"
      },
      "source": [
        "40. Generate a matrix of 20 random values and find its cumulative sum"
      ]
    },
    {
      "cell_type": "code",
      "metadata": {
        "id": "_oOHdiYEAF8N",
        "colab": {
          "base_uri": "https://localhost:8080/"
        },
        "outputId": "20e2e8f6-139b-4fb3-95b2-63e8938b10fd"
      },
      "source": [
        "matrix = np.random.randn(20)\r\n",
        "\r\n",
        "comulative_sum = np.cumsum(matrix)\r\n",
        "comulative_sum"
      ],
      "execution_count": null,
      "outputs": [
        {
          "output_type": "execute_result",
          "data": {
            "text/plain": [
              "array([-1.63041313, -2.12586289, -1.55901383, -2.51465984, -4.76333305,\n",
              "       -5.13609742, -5.00912374, -4.63971599, -3.34274138, -1.9270263 ,\n",
              "       -0.56875975, -1.11810335, -1.35096172, -0.61068234, -1.25167347,\n",
              "       -0.65514548, -0.30349087,  0.5863918 ,  3.24591179,  3.76331784])"
            ]
          },
          "metadata": {
            "tags": []
          },
          "execution_count": 6
        }
      ]
    },
    {
      "cell_type": "code",
      "metadata": {
        "id": "ie68hVryqeEM"
      },
      "source": [
        ""
      ],
      "execution_count": null,
      "outputs": []
    }
  ]
}